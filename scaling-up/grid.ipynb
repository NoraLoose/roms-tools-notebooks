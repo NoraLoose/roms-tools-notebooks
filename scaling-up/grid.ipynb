{
 "cells": [
  {
   "cell_type": "code",
   "execution_count": 1,
   "id": "61594b2b-07e9-4acd-93ca-4dfa5c16c5ec",
   "metadata": {
    "tags": []
   },
   "outputs": [],
   "source": [
    "%load_ext memory_profiler"
   ]
  },
  {
   "cell_type": "code",
   "execution_count": 2,
   "id": "526ed5ea-4296-452f-922c-25f6f648c555",
   "metadata": {
    "tags": []
   },
   "outputs": [],
   "source": [
    "base_grid_kwargs = {\n",
    "    \"size_x\": 1080, \n",
    "    \"size_y\": 1080, \n",
    "    \"center_lon\": -20, \n",
    "    \"center_lat\": 65, \n",
    "    \"rot\": 0, \n",
    "    \"topography_source\": {\n",
    "        \"name\": \"SRTM15\",\n",
    "        \"path\": \"/global/cfs/projectdirs/m4746/Datasets/SRTM15/SRTM15_V2.6.nc\",\n",
    "    }\n",
    "}"
   ]
  },
  {
   "cell_type": "code",
   "execution_count": 3,
   "id": "a3945844-73cd-4251-a2fc-ff44501ced84",
   "metadata": {
    "tags": []
   },
   "outputs": [],
   "source": [
    "grids = {\n",
    "    \"A\": {\"nx\": 1080, \"ny\": 1080, \"N\": 100, **base_grid_kwargs},\n",
    "    \"B\": {\"nx\": 2000, \"ny\": 2000, \"N\": 100, **base_grid_kwargs},  \n",
    "    \"C\": {\"nx\": 2000, \"ny\": 2000, \"N\": 500, **base_grid_kwargs},   \n",
    "}"
   ]
  },
  {
   "cell_type": "markdown",
   "id": "ce8e1e7c-bc05-435a-ab05-68e03a5866a4",
   "metadata": {},
   "source": [
    "# Performance"
   ]
  },
  {
   "cell_type": "code",
   "execution_count": 4,
   "id": "b2a49534-50af-4646-8ed0-f9b92b74f4cc",
   "metadata": {
    "tags": []
   },
   "outputs": [],
   "source": [
    "key = \"C\""
   ]
  },
  {
   "cell_type": "code",
   "execution_count": 5,
   "id": "379dbc3a-2f88-4524-83c0-bd672c27e049",
   "metadata": {
    "tags": []
   },
   "outputs": [
    {
     "ename": "NameError",
     "evalue": "name 'profile' is not defined",
     "output_type": "error",
     "traceback": [
      "\u001b[0;31m---------------------------------------------------------------------------\u001b[0m",
      "\u001b[0;31mNameError\u001b[0m                                 Traceback (most recent call last)",
      "Cell \u001b[0;32mIn[5], line 1\u001b[0m\n\u001b[0;32m----> 1\u001b[0m \u001b[38;5;28;01mfrom\u001b[39;00m \u001b[38;5;21;01mroms_tools\u001b[39;00m \u001b[38;5;28;01mimport\u001b[39;00m Grid\n",
      "File \u001b[0;32m/global/cfs/cdirs/m4746/Users/nora/roms-tools/roms_tools/__init__.py:11\u001b[0m\n\u001b[1;32m      6\u001b[0m \u001b[38;5;28;01mexcept\u001b[39;00m \u001b[38;5;167;01mImportError\u001b[39;00m:  \u001b[38;5;66;03m# pragma: no cover\u001b[39;00m\n\u001b[1;32m      7\u001b[0m     \u001b[38;5;66;03m# Local copy or not installed with setuptools\u001b[39;00m\n\u001b[1;32m      8\u001b[0m     __version__ \u001b[38;5;241m=\u001b[39m \u001b[38;5;124m\"\u001b[39m\u001b[38;5;124m9999\u001b[39m\u001b[38;5;124m\"\u001b[39m\n\u001b[0;32m---> 11\u001b[0m \u001b[38;5;28;01mfrom\u001b[39;00m \u001b[38;5;21;01mroms_tools\u001b[39;00m\u001b[38;5;21;01m.\u001b[39;00m\u001b[38;5;21;01msetup\u001b[39;00m\u001b[38;5;21;01m.\u001b[39;00m\u001b[38;5;21;01mgrid\u001b[39;00m \u001b[38;5;28;01mimport\u001b[39;00m Grid  \u001b[38;5;66;03m# noqa: F401\u001b[39;00m\n\u001b[1;32m     12\u001b[0m \u001b[38;5;28;01mfrom\u001b[39;00m \u001b[38;5;21;01mroms_tools\u001b[39;00m\u001b[38;5;21;01m.\u001b[39;00m\u001b[38;5;21;01msetup\u001b[39;00m\u001b[38;5;21;01m.\u001b[39;00m\u001b[38;5;21;01mtides\u001b[39;00m \u001b[38;5;28;01mimport\u001b[39;00m TidalForcing  \u001b[38;5;66;03m# noqa: F401\u001b[39;00m\n\u001b[1;32m     13\u001b[0m \u001b[38;5;28;01mfrom\u001b[39;00m \u001b[38;5;21;01mroms_tools\u001b[39;00m\u001b[38;5;21;01m.\u001b[39;00m\u001b[38;5;21;01msetup\u001b[39;00m\u001b[38;5;21;01m.\u001b[39;00m\u001b[38;5;21;01msurface_forcing\u001b[39;00m \u001b[38;5;28;01mimport\u001b[39;00m SurfaceForcing  \u001b[38;5;66;03m# noqa: F401\u001b[39;00m\n",
      "File \u001b[0;32m/global/cfs/cdirs/m4746/Users/nora/roms-tools/roms_tools/setup/grid.py:20\u001b[0m\n\u001b[1;32m     13\u001b[0m \u001b[38;5;28;01mfrom\u001b[39;00m \u001b[38;5;21;01mroms_tools\u001b[39;00m\u001b[38;5;21;01m.\u001b[39;00m\u001b[38;5;21;01msetup\u001b[39;00m\u001b[38;5;21;01m.\u001b[39;00m\u001b[38;5;21;01mplot\u001b[39;00m \u001b[38;5;28;01mimport\u001b[39;00m _plot, _section_plot\n\u001b[1;32m     14\u001b[0m \u001b[38;5;28;01mfrom\u001b[39;00m \u001b[38;5;21;01mroms_tools\u001b[39;00m\u001b[38;5;21;01m.\u001b[39;00m\u001b[38;5;21;01msetup\u001b[39;00m\u001b[38;5;21;01m.\u001b[39;00m\u001b[38;5;21;01mutils\u001b[39;00m \u001b[38;5;28;01mimport\u001b[39;00m (\n\u001b[1;32m     15\u001b[0m     interpolate_from_rho_to_u,\n\u001b[1;32m     16\u001b[0m     interpolate_from_rho_to_v,\n\u001b[1;32m     17\u001b[0m     get_target_coords,\n\u001b[1;32m     18\u001b[0m     gc_dist,\n\u001b[1;32m     19\u001b[0m )\n\u001b[0;32m---> 20\u001b[0m \u001b[38;5;28;01mfrom\u001b[39;00m \u001b[38;5;21;01mroms_tools\u001b[39;00m\u001b[38;5;21;01m.\u001b[39;00m\u001b[38;5;21;01msetup\u001b[39;00m\u001b[38;5;21;01m.\u001b[39;00m\u001b[38;5;21;01mvertical_coordinate\u001b[39;00m \u001b[38;5;28;01mimport\u001b[39;00m sigma_stretch, compute_depth\n\u001b[1;32m     21\u001b[0m \u001b[38;5;28;01mfrom\u001b[39;00m \u001b[38;5;21;01mroms_tools\u001b[39;00m\u001b[38;5;21;01m.\u001b[39;00m\u001b[38;5;21;01msetup\u001b[39;00m\u001b[38;5;21;01m.\u001b[39;00m\u001b[38;5;21;01mutils\u001b[39;00m \u001b[38;5;28;01mimport\u001b[39;00m extract_single_value, save_datasets\n\u001b[1;32m     22\u001b[0m \u001b[38;5;28;01mfrom\u001b[39;00m \u001b[38;5;21;01mpathlib\u001b[39;00m \u001b[38;5;28;01mimport\u001b[39;00m Path\n",
      "File \u001b[0;32m/global/cfs/cdirs/m4746/Users/nora/roms-tools/roms_tools/setup/vertical_coordinate.py:82\u001b[0m\n\u001b[1;32m     77\u001b[0m     cs \u001b[38;5;241m=\u001b[39m compute_cs(sigma, theta_s, theta_b)\n\u001b[1;32m     79\u001b[0m     \u001b[38;5;28;01mreturn\u001b[39;00m cs, sigma\n\u001b[0;32m---> 82\u001b[0m \u001b[38;5;129m@profile\u001b[39m\n\u001b[1;32m     83\u001b[0m \u001b[38;5;28;01mdef\u001b[39;00m \u001b[38;5;21mcompute_depth\u001b[39m(zeta, h, hc, cs, sigma):\n\u001b[1;32m     84\u001b[0m \u001b[38;5;250m    \u001b[39m\u001b[38;5;124;03m\"\"\"Compute the depth at different sigma levels.\u001b[39;00m\n\u001b[1;32m     85\u001b[0m \n\u001b[1;32m     86\u001b[0m \u001b[38;5;124;03m    Parameters\u001b[39;00m\n\u001b[0;32m   (...)\u001b[0m\n\u001b[1;32m    102\u001b[0m \u001b[38;5;124;03m        The depth at different sigma levels.\u001b[39;00m\n\u001b[1;32m    103\u001b[0m \u001b[38;5;124;03m    \"\"\"\u001b[39;00m\n\u001b[1;32m    105\u001b[0m     z \u001b[38;5;241m=\u001b[39m (hc \u001b[38;5;241m*\u001b[39m sigma \u001b[38;5;241m+\u001b[39m h \u001b[38;5;241m*\u001b[39m cs) \u001b[38;5;241m/\u001b[39m (hc \u001b[38;5;241m+\u001b[39m h)\n",
      "\u001b[0;31mNameError\u001b[0m: name 'profile' is not defined"
     ]
    }
   ],
   "source": [
    "from roms_tools import Grid"
   ]
  },
  {
   "cell_type": "markdown",
   "id": "9fe13d86-db59-4ce3-9a5a-3e5c594012fe",
   "metadata": {},
   "source": [
    "We can create a ROMS grid, mask, topography, and vertical coordinate system by creating an instance of the `Grid` class."
   ]
  },
  {
   "cell_type": "code",
   "execution_count": null,
   "id": "ec847179-e96b-45b2-ba15-bd736f4d77a6",
   "metadata": {
    "tags": []
   },
   "outputs": [],
   "source": [
    "%%time\n",
    "%%memit\n",
    "\n",
    "grid = Grid(**grids[key])"
   ]
  },
  {
   "cell_type": "code",
   "execution_count": null,
   "id": "d16bf1c8-bc28-4b16-94a1-e6ff86919ce7",
   "metadata": {
    "tags": []
   },
   "outputs": [],
   "source": [
    "%%time\n",
    "%%memit\n",
    "\n",
    "grid.plot(bathymetry=True)"
   ]
  },
  {
   "cell_type": "markdown",
   "id": "710fee39-f7e3-42ec-a626-b07ffeeb5e72",
   "metadata": {},
   "source": [
    "### Saving as NetCDF or YAML file"
   ]
  },
  {
   "cell_type": "markdown",
   "id": "42d95865-b527-44d5-a3dd-cf7bc7ccdf70",
   "metadata": {},
   "source": [
    "Once we are happy with our grid, we can save it as a netCDF file via the `.save` method:"
   ]
  },
  {
   "cell_type": "code",
   "execution_count": null,
   "id": "c8bb870a-1e7a-4d55-8b49-9773aa9da877",
   "metadata": {
    "tags": []
   },
   "outputs": [],
   "source": [
    "filepath = \"/pscratch/sd/n/nloose/grids/my_roms_grid.nc\""
   ]
  },
  {
   "cell_type": "code",
   "execution_count": null,
   "id": "ed7ee216-55df-4b6c-9c04-4e24223092cf",
   "metadata": {
    "tags": []
   },
   "outputs": [],
   "source": [
    "%%time\n",
    "%%memit\n",
    "\n",
    "grid.save(filepath)"
   ]
  },
  {
   "cell_type": "markdown",
   "id": "b28ef0fa-2606-4e47-9052-b3955bf94f8c",
   "metadata": {},
   "source": [
    "### Plotting the vertical coordinate system"
   ]
  },
  {
   "cell_type": "markdown",
   "id": "279c3d33-eb63-480d-a711-48ec143765c8",
   "metadata": {},
   "source": [
    "You can visualize the vertical coordinate system from different perspectives using the `.plot_vertical_coordinate` method. Let's begin by examining the depth of the different layers."
   ]
  },
  {
   "cell_type": "code",
   "execution_count": null,
   "id": "315fba05-2b4f-4b95-ae4a-ee85c70bc25e",
   "metadata": {
    "tags": []
   },
   "outputs": [],
   "source": [
    "%%time\n",
    "%%memit\n",
    "\n",
    "grid.plot_vertical_coordinate(s=-1)  # depth of the uppermost layer at rho-points"
   ]
  },
  {
   "cell_type": "code",
   "execution_count": null,
   "id": "13c83aa6-3d43-443d-a7d4-767b54484e75",
   "metadata": {
    "tags": []
   },
   "outputs": [],
   "source": [
    "%%time\n",
    "%%memit\n",
    "\n",
    "grid.plot_vertical_coordinate(eta=50)"
   ]
  },
  {
   "cell_type": "code",
   "execution_count": null,
   "id": "489c587c-89eb-4aa6-9e70-096a1599713c",
   "metadata": {},
   "outputs": [],
   "source": []
  }
 ],
 "metadata": {
  "kernelspec": {
   "display_name": "romstools-test",
   "language": "python",
   "name": "romstools-test"
  },
  "language_info": {
   "codemirror_mode": {
    "name": "ipython",
    "version": 3
   },
   "file_extension": ".py",
   "mimetype": "text/x-python",
   "name": "python",
   "nbconvert_exporter": "python",
   "pygments_lexer": "ipython3",
   "version": "3.13.0"
  }
 },
 "nbformat": 4,
 "nbformat_minor": 5
}
