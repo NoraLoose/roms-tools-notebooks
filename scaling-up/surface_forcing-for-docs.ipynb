{
 "cells": [
  {
   "cell_type": "code",
   "execution_count": 1,
   "id": "f860fc68-7d88-4a7f-be0f-4d470a12c386",
   "metadata": {},
   "outputs": [],
   "source": [
    "#from dask.distributed import LocalCluster\n",
    "#cluster = LocalCluster()          # Fully-featured local Dask cluster"
   ]
  },
  {
   "cell_type": "code",
   "execution_count": 1,
   "id": "c562e158-70cb-401a-9bfc-b45cddbd11cb",
   "metadata": {},
   "outputs": [],
   "source": [
    "#from dask.distributed import LocalCluster\n",
    "#cluster = LocalCluster()          # Fully-featured local Dask cluster"
   ]
  },
  {
   "cell_type": "code",
   "execution_count": 2,
   "id": "c34aa24c-8bad-4c94-b578-27f95114e94a",
   "metadata": {},
   "outputs": [
    {
     "data": {
      "text/plain": [
       "<dask.config.set at 0x153cdddce990>"
      ]
     },
     "execution_count": 2,
     "metadata": {},
     "output_type": "execute_result"
    }
   ],
   "source": [
    "import dask\n",
    "\n",
    "dask.config.set(\n",
    "    scheduler=\"threads\",  # Use multi-threading\n",
    "    n_workers=1,  # Number of threads; adjust as needed\n",
    ")"
   ]
  },
  {
   "cell_type": "code",
   "execution_count": 3,
   "id": "0280b26e-6bcd-4294-8372-ccf0e348326a",
   "metadata": {
    "tags": []
   },
   "outputs": [],
   "source": [
    "%load_ext memory_profiler"
   ]
  },
  {
   "cell_type": "markdown",
   "id": "d950c42a-c596-4e59-b4b7-d9bc9613555d",
   "metadata": {},
   "source": [
    "# Performance"
   ]
  },
  {
   "cell_type": "code",
   "execution_count": 4,
   "id": "0ff6df61-18c6-4ca3-a57a-328bda925095",
   "metadata": {},
   "outputs": [],
   "source": [
    "from roms_tools import Grid, SurfaceForcing"
   ]
  },
  {
   "cell_type": "code",
   "execution_count": 5,
   "id": "ded173f4-574e-4e9e-b0dd-c427a9374e48",
   "metadata": {},
   "outputs": [],
   "source": [
    "from datetime import datetime"
   ]
  },
  {
   "cell_type": "code",
   "execution_count": 6,
   "id": "9f0c0f68-0d35-4645-bb70-f4f32efc9f9d",
   "metadata": {},
   "outputs": [],
   "source": [
    "surface_forcing_parameters = {\n",
    "    \"grid\": Grid(\n",
    "        nx=1000, ny=1000, size_x=1000, size_y=1000, center_lon=-20, center_lat=65, rot=0\n",
    "    ),\n",
    "    \"start_time\": datetime(2012, 1, 1),\n",
    "    \"end_time\": datetime(2012, 12, 31),\n",
    "    \"source\": {\n",
    "        \"name\": \"ERA5\",\n",
    "        \"path\": \"/glade/derecho/scratch/noraloose/Datasets/ERA5/NA/2012/ERA5*.nc\",\n",
    "    },\n",
    "}"
   ]
  },
  {
   "cell_type": "code",
   "execution_count": 7,
   "id": "cdd4b18f-283a-42cf-950a-4c370404a356",
   "metadata": {
    "tags": []
   },
   "outputs": [],
   "source": [
    "from datetime import datetime"
   ]
  },
  {
   "cell_type": "code",
   "execution_count": 8,
   "id": "54fcabd8-d74c-4239-80f0-267863a7d094",
   "metadata": {
    "tags": []
   },
   "outputs": [
    {
     "name": "stderr",
     "output_type": "stream",
     "text": [
      "INFO - Data will be interpolated onto grid coarsened by factor 2.\n"
     ]
    },
    {
     "name": "stdout",
     "output_type": "stream",
     "text": [
      "peak memory: 1929.98 MiB, increment: 1408.50 MiB\n",
      "CPU times: user 2min, sys: 2.05 s, total: 2min 2s\n",
      "Wall time: 2min 17s\n"
     ]
    }
   ],
   "source": [
    "%%time\n",
    "%%memit\n",
    "\n",
    "surface_forcing = SurfaceForcing(\n",
    "    **surface_forcing_parameters,\n",
    "    use_dask=True\n",
    ")"
   ]
  },
  {
   "cell_type": "markdown",
   "id": "efb06dd2-08d6-4123-9c80-436128512620",
   "metadata": {},
   "source": [
    "Finally, we can save our tidal forcing as a netCDF file via the `.save` method."
   ]
  },
  {
   "cell_type": "code",
   "execution_count": 9,
   "id": "6cb0aeba-4df9-4532-8738-829c7b9c6342",
   "metadata": {
    "tags": []
   },
   "outputs": [],
   "source": [
    "filepath = \"/glade/derecho/scratch/noraloose/forcing/my_surface_forcing.nc\""
   ]
  },
  {
   "cell_type": "code",
   "execution_count": 10,
   "id": "ce8ae3cd-ccc1-435a-a888-1044dd5f3bd9",
   "metadata": {},
   "outputs": [
    {
     "name": "stderr",
     "output_type": "stream",
     "text": [
      "INFO - Writing the following NetCDF files:\n",
      "/glade/derecho/scratch/noraloose/forcing/my_surface_forcing_201201.nc\n",
      "/glade/derecho/scratch/noraloose/forcing/my_surface_forcing_201202.nc\n",
      "/glade/derecho/scratch/noraloose/forcing/my_surface_forcing_201203.nc\n",
      "/glade/derecho/scratch/noraloose/forcing/my_surface_forcing_201204.nc\n",
      "/glade/derecho/scratch/noraloose/forcing/my_surface_forcing_201205.nc\n",
      "/glade/derecho/scratch/noraloose/forcing/my_surface_forcing_201206.nc\n",
      "/glade/derecho/scratch/noraloose/forcing/my_surface_forcing_201207.nc\n",
      "/glade/derecho/scratch/noraloose/forcing/my_surface_forcing_201208.nc\n",
      "/glade/derecho/scratch/noraloose/forcing/my_surface_forcing_201209.nc\n",
      "/glade/derecho/scratch/noraloose/forcing/my_surface_forcing_201210.nc\n",
      "/glade/derecho/scratch/noraloose/forcing/my_surface_forcing_201211.nc\n",
      "/glade/derecho/scratch/noraloose/forcing/my_surface_forcing_201212.nc\n"
     ]
    },
    {
     "name": "stdout",
     "output_type": "stream",
     "text": [
      "[########################################] | 100% Completed | 98.02 s\n",
      "[########################################] | 100% Completed | 91.11 s\n",
      "[########################################] | 100% Completed | 103.28 s\n",
      "[########################################] | 100% Completed | 102.88 s\n",
      "[########################################] | 100% Completed | 102.72 s\n",
      "[########################################] | 100% Completed | 99.07 s\n",
      "[########################################] | 100% Completed | 100.01 s\n",
      "[########################################] | 100% Completed | 100.07 s\n",
      "[########################################] | 100% Completed | 97.82 s\n",
      "[########################################] | 100% Completed | 102.46 s\n",
      "[########################################] | 100% Completed | 99.66 s\n",
      "[########################################] | 100% Completed | 95.92 s\n",
      "peak memory: 5114.68 MiB, increment: 3186.67 MiB\n",
      "CPU times: user 50min 45s, sys: 4min 29s, total: 55min 15s\n",
      "Wall time: 22min 7s\n"
     ]
    }
   ],
   "source": [
    "%%time\n",
    "%%memit\n",
    "\n",
    "surface_forcing.save(filepath, group=True)"
   ]
  },
  {
   "cell_type": "markdown",
   "id": "02751a27-1a01-42d8-b7cc-b1911423ca3f",
   "metadata": {},
   "source": [
    "## Single-machine threaded, 1 worker\n",
    "```\n",
    "dask.config.set(\n",
    "    scheduler=\"threads\",  # Use multi-threading\n",
    "    n_workers=1,  # Number of threads; adjust as needed\n",
    ")\n",
    "```\n",
    "Initialization:\n",
    "```\n",
    "peak memory: 1929.98 MiB, increment: 1408.50 MiB\n",
    "CPU times: user 2min, sys: 2.05 s, total: 2min 2s\n",
    "Wall time: 2min 17s\n",
    "```\n",
    "Saving:\n",
    "```\n",
    "peak memory: 5114.68 MiB, increment: 3186.67 MiB\n",
    "CPU times: user 50min 45s, sys: 4min 29s, total: 55min 15s\n",
    "Wall time: 22min 7s\n",
    "```\n",
    "\n",
    "\n",
    "## Single-machine threaded, 10 workers\n",
    "```\n",
    "dask.config.set(\n",
    "    scheduler=\"threads\",  # Use multi-threading\n",
    "    n_workers=10,  # Number of threads; adjust as needed\n",
    ")\n",
    "```\n",
    "Initialization:\n",
    "```\n",
    "peak memory: 1947.59 MiB, increment: 1424.31 MiB\n",
    "CPU times: user 1min 52s, sys: 1.55 s, total: 1min 54s\n",
    "Wall time: 1min 57s\n",
    "```\n",
    "Saving:\n",
    "```\n",
    "peak memory: 5117.30 MiB, increment: 3171.70 MiB\n",
    "CPU times: user 48min 31s, sys: 3min 22s, total: 51min 53s\n",
    "Wall time: 21min 8s\n",
    "```"
   ]
  },
  {
   "cell_type": "code",
   "execution_count": null,
   "id": "6d3732de-d8f8-49a1-975b-9a4761405233",
   "metadata": {},
   "outputs": [],
   "source": []
  }
 ],
 "metadata": {
  "kernelspec": {
   "display_name": "Python [conda env:romstools-test]",
   "language": "python",
   "name": "conda-env-romstools-test-py"
  },
  "language_info": {
   "codemirror_mode": {
    "name": "ipython",
    "version": 3
   },
   "file_extension": ".py",
   "mimetype": "text/x-python",
   "name": "python",
   "nbconvert_exporter": "python",
   "pygments_lexer": "ipython3",
   "version": "3.12.8"
  }
 },
 "nbformat": 4,
 "nbformat_minor": 5
}
