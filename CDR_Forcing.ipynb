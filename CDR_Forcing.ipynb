{
 "cells": [
  {
   "cell_type": "code",
   "execution_count": 1,
   "id": "7e7a4b73-2550-4469-83d1-290d18c8e0a0",
   "metadata": {},
   "outputs": [],
   "source": [
    "import xarray as xr"
   ]
  },
  {
   "cell_type": "code",
   "execution_count": 2,
   "id": "d8c65f39-40ad-44d6-978d-37094e7e1e6c",
   "metadata": {},
   "outputs": [],
   "source": [
    "ds = xr.open_dataset(\"/global/cfs/cdirs/m4746/Users/nora/ucla-roms/Examples/CDR/cdr_release.nc\")"
   ]
  },
  {
   "cell_type": "code",
   "execution_count": 3,
   "id": "fb1b8588-1520-4d44-853e-6ed62c69e93b",
   "metadata": {},
   "outputs": [
    {
     "data": {
      "text/html": [
       "<div><svg style=\"position: absolute; width: 0; height: 0; overflow: hidden\">\n",
       "<defs>\n",
       "<symbol id=\"icon-database\" viewBox=\"0 0 32 32\">\n",
       "<path d=\"M16 0c-8.837 0-16 2.239-16 5v4c0 2.761 7.163 5 16 5s16-2.239 16-5v-4c0-2.761-7.163-5-16-5z\"></path>\n",
       "<path d=\"M16 17c-8.837 0-16-2.239-16-5v6c0 2.761 7.163 5 16 5s16-2.239 16-5v-6c0 2.761-7.163 5-16 5z\"></path>\n",
       "<path d=\"M16 26c-8.837 0-16-2.239-16-5v6c0 2.761 7.163 5 16 5s16-2.239 16-5v-6c0 2.761-7.163 5-16 5z\"></path>\n",
       "</symbol>\n",
       "<symbol id=\"icon-file-text2\" viewBox=\"0 0 32 32\">\n",
       "<path d=\"M28.681 7.159c-0.694-0.947-1.662-2.053-2.724-3.116s-2.169-2.030-3.116-2.724c-1.612-1.182-2.393-1.319-2.841-1.319h-15.5c-1.378 0-2.5 1.121-2.5 2.5v27c0 1.378 1.122 2.5 2.5 2.5h23c1.378 0 2.5-1.122 2.5-2.5v-19.5c0-0.448-0.137-1.23-1.319-2.841zM24.543 5.457c0.959 0.959 1.712 1.825 2.268 2.543h-4.811v-4.811c0.718 0.556 1.584 1.309 2.543 2.268zM28 29.5c0 0.271-0.229 0.5-0.5 0.5h-23c-0.271 0-0.5-0.229-0.5-0.5v-27c0-0.271 0.229-0.5 0.5-0.5 0 0 15.499-0 15.5 0v7c0 0.552 0.448 1 1 1h7v19.5z\"></path>\n",
       "<path d=\"M23 26h-14c-0.552 0-1-0.448-1-1s0.448-1 1-1h14c0.552 0 1 0.448 1 1s-0.448 1-1 1z\"></path>\n",
       "<path d=\"M23 22h-14c-0.552 0-1-0.448-1-1s0.448-1 1-1h14c0.552 0 1 0.448 1 1s-0.448 1-1 1z\"></path>\n",
       "<path d=\"M23 18h-14c-0.552 0-1-0.448-1-1s0.448-1 1-1h14c0.552 0 1 0.448 1 1s-0.448 1-1 1z\"></path>\n",
       "</symbol>\n",
       "</defs>\n",
       "</svg>\n",
       "<style>/* CSS stylesheet for displaying xarray objects in jupyterlab.\n",
       " *\n",
       " */\n",
       "\n",
       ":root {\n",
       "  --xr-font-color0: var(--jp-content-font-color0, rgba(0, 0, 0, 1));\n",
       "  --xr-font-color2: var(--jp-content-font-color2, rgba(0, 0, 0, 0.54));\n",
       "  --xr-font-color3: var(--jp-content-font-color3, rgba(0, 0, 0, 0.38));\n",
       "  --xr-border-color: var(--jp-border-color2, #e0e0e0);\n",
       "  --xr-disabled-color: var(--jp-layout-color3, #bdbdbd);\n",
       "  --xr-background-color: var(--jp-layout-color0, white);\n",
       "  --xr-background-color-row-even: var(--jp-layout-color1, white);\n",
       "  --xr-background-color-row-odd: var(--jp-layout-color2, #eeeeee);\n",
       "}\n",
       "\n",
       "html[theme=\"dark\"],\n",
       "html[data-theme=\"dark\"],\n",
       "body[data-theme=\"dark\"],\n",
       "body.vscode-dark {\n",
       "  --xr-font-color0: rgba(255, 255, 255, 1);\n",
       "  --xr-font-color2: rgba(255, 255, 255, 0.54);\n",
       "  --xr-font-color3: rgba(255, 255, 255, 0.38);\n",
       "  --xr-border-color: #1f1f1f;\n",
       "  --xr-disabled-color: #515151;\n",
       "  --xr-background-color: #111111;\n",
       "  --xr-background-color-row-even: #111111;\n",
       "  --xr-background-color-row-odd: #313131;\n",
       "}\n",
       "\n",
       ".xr-wrap {\n",
       "  display: block !important;\n",
       "  min-width: 300px;\n",
       "  max-width: 700px;\n",
       "}\n",
       "\n",
       ".xr-text-repr-fallback {\n",
       "  /* fallback to plain text repr when CSS is not injected (untrusted notebook) */\n",
       "  display: none;\n",
       "}\n",
       "\n",
       ".xr-header {\n",
       "  padding-top: 6px;\n",
       "  padding-bottom: 6px;\n",
       "  margin-bottom: 4px;\n",
       "  border-bottom: solid 1px var(--xr-border-color);\n",
       "}\n",
       "\n",
       ".xr-header > div,\n",
       ".xr-header > ul {\n",
       "  display: inline;\n",
       "  margin-top: 0;\n",
       "  margin-bottom: 0;\n",
       "}\n",
       "\n",
       ".xr-obj-type,\n",
       ".xr-array-name {\n",
       "  margin-left: 2px;\n",
       "  margin-right: 10px;\n",
       "}\n",
       "\n",
       ".xr-obj-type {\n",
       "  color: var(--xr-font-color2);\n",
       "}\n",
       "\n",
       ".xr-sections {\n",
       "  padding-left: 0 !important;\n",
       "  display: grid;\n",
       "  grid-template-columns: 150px auto auto 1fr 0 20px 0 20px;\n",
       "}\n",
       "\n",
       ".xr-section-item {\n",
       "  display: contents;\n",
       "}\n",
       "\n",
       ".xr-section-item input {\n",
       "  display: inline-block;\n",
       "  opacity: 0;\n",
       "  height: 0;\n",
       "}\n",
       "\n",
       ".xr-section-item input + label {\n",
       "  color: var(--xr-disabled-color);\n",
       "}\n",
       "\n",
       ".xr-section-item input:enabled + label {\n",
       "  cursor: pointer;\n",
       "  color: var(--xr-font-color2);\n",
       "}\n",
       "\n",
       ".xr-section-item input:focus + label {\n",
       "  border: 2px solid var(--xr-font-color0);\n",
       "}\n",
       "\n",
       ".xr-section-item input:enabled + label:hover {\n",
       "  color: var(--xr-font-color0);\n",
       "}\n",
       "\n",
       ".xr-section-summary {\n",
       "  grid-column: 1;\n",
       "  color: var(--xr-font-color2);\n",
       "  font-weight: 500;\n",
       "}\n",
       "\n",
       ".xr-section-summary > span {\n",
       "  display: inline-block;\n",
       "  padding-left: 0.5em;\n",
       "}\n",
       "\n",
       ".xr-section-summary-in:disabled + label {\n",
       "  color: var(--xr-font-color2);\n",
       "}\n",
       "\n",
       ".xr-section-summary-in + label:before {\n",
       "  display: inline-block;\n",
       "  content: \"►\";\n",
       "  font-size: 11px;\n",
       "  width: 15px;\n",
       "  text-align: center;\n",
       "}\n",
       "\n",
       ".xr-section-summary-in:disabled + label:before {\n",
       "  color: var(--xr-disabled-color);\n",
       "}\n",
       "\n",
       ".xr-section-summary-in:checked + label:before {\n",
       "  content: \"▼\";\n",
       "}\n",
       "\n",
       ".xr-section-summary-in:checked + label > span {\n",
       "  display: none;\n",
       "}\n",
       "\n",
       ".xr-section-summary,\n",
       ".xr-section-inline-details {\n",
       "  padding-top: 4px;\n",
       "  padding-bottom: 4px;\n",
       "}\n",
       "\n",
       ".xr-section-inline-details {\n",
       "  grid-column: 2 / -1;\n",
       "}\n",
       "\n",
       ".xr-section-details {\n",
       "  display: none;\n",
       "  grid-column: 1 / -1;\n",
       "  margin-bottom: 5px;\n",
       "}\n",
       "\n",
       ".xr-section-summary-in:checked ~ .xr-section-details {\n",
       "  display: contents;\n",
       "}\n",
       "\n",
       ".xr-array-wrap {\n",
       "  grid-column: 1 / -1;\n",
       "  display: grid;\n",
       "  grid-template-columns: 20px auto;\n",
       "}\n",
       "\n",
       ".xr-array-wrap > label {\n",
       "  grid-column: 1;\n",
       "  vertical-align: top;\n",
       "}\n",
       "\n",
       ".xr-preview {\n",
       "  color: var(--xr-font-color3);\n",
       "}\n",
       "\n",
       ".xr-array-preview,\n",
       ".xr-array-data {\n",
       "  padding: 0 5px !important;\n",
       "  grid-column: 2;\n",
       "}\n",
       "\n",
       ".xr-array-data,\n",
       ".xr-array-in:checked ~ .xr-array-preview {\n",
       "  display: none;\n",
       "}\n",
       "\n",
       ".xr-array-in:checked ~ .xr-array-data,\n",
       ".xr-array-preview {\n",
       "  display: inline-block;\n",
       "}\n",
       "\n",
       ".xr-dim-list {\n",
       "  display: inline-block !important;\n",
       "  list-style: none;\n",
       "  padding: 0 !important;\n",
       "  margin: 0;\n",
       "}\n",
       "\n",
       ".xr-dim-list li {\n",
       "  display: inline-block;\n",
       "  padding: 0;\n",
       "  margin: 0;\n",
       "}\n",
       "\n",
       ".xr-dim-list:before {\n",
       "  content: \"(\";\n",
       "}\n",
       "\n",
       ".xr-dim-list:after {\n",
       "  content: \")\";\n",
       "}\n",
       "\n",
       ".xr-dim-list li:not(:last-child):after {\n",
       "  content: \",\";\n",
       "  padding-right: 5px;\n",
       "}\n",
       "\n",
       ".xr-has-index {\n",
       "  font-weight: bold;\n",
       "}\n",
       "\n",
       ".xr-var-list,\n",
       ".xr-var-item {\n",
       "  display: contents;\n",
       "}\n",
       "\n",
       ".xr-var-item > div,\n",
       ".xr-var-item label,\n",
       ".xr-var-item > .xr-var-name span {\n",
       "  background-color: var(--xr-background-color-row-even);\n",
       "  margin-bottom: 0;\n",
       "}\n",
       "\n",
       ".xr-var-item > .xr-var-name:hover span {\n",
       "  padding-right: 5px;\n",
       "}\n",
       "\n",
       ".xr-var-list > li:nth-child(odd) > div,\n",
       ".xr-var-list > li:nth-child(odd) > label,\n",
       ".xr-var-list > li:nth-child(odd) > .xr-var-name span {\n",
       "  background-color: var(--xr-background-color-row-odd);\n",
       "}\n",
       "\n",
       ".xr-var-name {\n",
       "  grid-column: 1;\n",
       "}\n",
       "\n",
       ".xr-var-dims {\n",
       "  grid-column: 2;\n",
       "}\n",
       "\n",
       ".xr-var-dtype {\n",
       "  grid-column: 3;\n",
       "  text-align: right;\n",
       "  color: var(--xr-font-color2);\n",
       "}\n",
       "\n",
       ".xr-var-preview {\n",
       "  grid-column: 4;\n",
       "}\n",
       "\n",
       ".xr-index-preview {\n",
       "  grid-column: 2 / 5;\n",
       "  color: var(--xr-font-color2);\n",
       "}\n",
       "\n",
       ".xr-var-name,\n",
       ".xr-var-dims,\n",
       ".xr-var-dtype,\n",
       ".xr-preview,\n",
       ".xr-attrs dt {\n",
       "  white-space: nowrap;\n",
       "  overflow: hidden;\n",
       "  text-overflow: ellipsis;\n",
       "  padding-right: 10px;\n",
       "}\n",
       "\n",
       ".xr-var-name:hover,\n",
       ".xr-var-dims:hover,\n",
       ".xr-var-dtype:hover,\n",
       ".xr-attrs dt:hover {\n",
       "  overflow: visible;\n",
       "  width: auto;\n",
       "  z-index: 1;\n",
       "}\n",
       "\n",
       ".xr-var-attrs,\n",
       ".xr-var-data,\n",
       ".xr-index-data {\n",
       "  display: none;\n",
       "  background-color: var(--xr-background-color) !important;\n",
       "  padding-bottom: 5px !important;\n",
       "}\n",
       "\n",
       ".xr-var-attrs-in:checked ~ .xr-var-attrs,\n",
       ".xr-var-data-in:checked ~ .xr-var-data,\n",
       ".xr-index-data-in:checked ~ .xr-index-data {\n",
       "  display: block;\n",
       "}\n",
       "\n",
       ".xr-var-data > table {\n",
       "  float: right;\n",
       "}\n",
       "\n",
       ".xr-var-name span,\n",
       ".xr-var-data,\n",
       ".xr-index-name div,\n",
       ".xr-index-data,\n",
       ".xr-attrs {\n",
       "  padding-left: 25px !important;\n",
       "}\n",
       "\n",
       ".xr-attrs,\n",
       ".xr-var-attrs,\n",
       ".xr-var-data,\n",
       ".xr-index-data {\n",
       "  grid-column: 1 / -1;\n",
       "}\n",
       "\n",
       "dl.xr-attrs {\n",
       "  padding: 0;\n",
       "  margin: 0;\n",
       "  display: grid;\n",
       "  grid-template-columns: 125px auto;\n",
       "}\n",
       "\n",
       ".xr-attrs dt,\n",
       ".xr-attrs dd {\n",
       "  padding: 0;\n",
       "  margin: 0;\n",
       "  float: left;\n",
       "  padding-right: 10px;\n",
       "  width: auto;\n",
       "}\n",
       "\n",
       ".xr-attrs dt {\n",
       "  font-weight: normal;\n",
       "  grid-column: 1;\n",
       "}\n",
       "\n",
       ".xr-attrs dt:hover span {\n",
       "  display: inline-block;\n",
       "  background: var(--xr-background-color);\n",
       "  padding-right: 10px;\n",
       "}\n",
       "\n",
       ".xr-attrs dd {\n",
       "  grid-column: 2;\n",
       "  white-space: pre-wrap;\n",
       "  word-break: break-all;\n",
       "}\n",
       "\n",
       ".xr-icon-database,\n",
       ".xr-icon-file-text2,\n",
       ".xr-no-icon {\n",
       "  display: inline-block;\n",
       "  vertical-align: middle;\n",
       "  width: 1em;\n",
       "  height: 1.5em !important;\n",
       "  stroke-width: 0;\n",
       "  stroke: currentColor;\n",
       "  fill: currentColor;\n",
       "}\n",
       "</style><pre class='xr-text-repr-fallback'>&lt;xarray.Dataset&gt; Size: 808B\n",
       "Dimensions:     (ncdr: 1, time: 12, ntracers: 3)\n",
       "Dimensions without coordinates: ncdr, time, ntracers\n",
       "Data variables:\n",
       "    cdr_lon     (ncdr) float64 8B ...\n",
       "    cdr_lat     (ncdr) float64 8B ...\n",
       "    cdr_hsc     (ncdr) float64 8B ...\n",
       "    cdr_vsc     (ncdr) float64 8B ...\n",
       "    cdr_dep     (ncdr) float64 8B ...\n",
       "    cdr_time    (time) float64 96B ...\n",
       "    cdr_volume  (time, ncdr) float64 96B ...\n",
       "    cdr_tracer  (time, ntracers, ncdr) float64 288B ...\n",
       "    cdr_trcflx  (time, ntracers, ncdr) float64 288B ...</pre><div class='xr-wrap' style='display:none'><div class='xr-header'><div class='xr-obj-type'>xarray.Dataset</div></div><ul class='xr-sections'><li class='xr-section-item'><input id='section-c2988d86-0f5a-40fd-b227-afc5129a6ec1' class='xr-section-summary-in' type='checkbox' disabled ><label for='section-c2988d86-0f5a-40fd-b227-afc5129a6ec1' class='xr-section-summary'  title='Expand/collapse section'>Dimensions:</label><div class='xr-section-inline-details'><ul class='xr-dim-list'><li><span>ncdr</span>: 1</li><li><span>time</span>: 12</li><li><span>ntracers</span>: 3</li></ul></div><div class='xr-section-details'></div></li><li class='xr-section-item'><input id='section-b3c2c3ac-95cd-42f2-9dc1-784612e8a9a5' class='xr-section-summary-in' type='checkbox' disabled ><label for='section-b3c2c3ac-95cd-42f2-9dc1-784612e8a9a5' class='xr-section-summary'  title='Expand/collapse section'>Coordinates: <span>(0)</span></label><div class='xr-section-inline-details'></div><div class='xr-section-details'><ul class='xr-var-list'></ul></div></li><li class='xr-section-item'><input id='section-c382e1de-ae32-4513-b3b2-412282d932fa' class='xr-section-summary-in' type='checkbox'  checked><label for='section-c382e1de-ae32-4513-b3b2-412282d932fa' class='xr-section-summary' >Data variables: <span>(9)</span></label><div class='xr-section-inline-details'></div><div class='xr-section-details'><ul class='xr-var-list'><li class='xr-var-item'><div class='xr-var-name'><span>cdr_lon</span></div><div class='xr-var-dims'>(ncdr)</div><div class='xr-var-dtype'>float64</div><div class='xr-var-preview xr-preview'>...</div><input id='attrs-c6d647be-f112-4a1c-9928-6bcbd22f34d8' class='xr-var-attrs-in' type='checkbox' ><label for='attrs-c6d647be-f112-4a1c-9928-6bcbd22f34d8' title='Show/Hide attributes'><svg class='icon xr-icon-file-text2'><use xlink:href='#icon-file-text2'></use></svg></label><input id='data-a1e9a305-dbf8-410e-a5a9-977aea1749ed' class='xr-var-data-in' type='checkbox'><label for='data-a1e9a305-dbf8-410e-a5a9-977aea1749ed' title='Show/Hide data repr'><svg class='icon xr-icon-database'><use xlink:href='#icon-database'></use></svg></label><div class='xr-var-attrs'><dl class='xr-attrs'><dt><span>long_name :</span></dt><dd>longitude of CDR release</dd><dt><span>units :</span></dt><dd>Degrees East</dd></dl></div><div class='xr-var-data'><pre>[1 values with dtype=float64]</pre></div></li><li class='xr-var-item'><div class='xr-var-name'><span>cdr_lat</span></div><div class='xr-var-dims'>(ncdr)</div><div class='xr-var-dtype'>float64</div><div class='xr-var-preview xr-preview'>...</div><input id='attrs-3db518e9-4c49-4884-a3c0-11f536293c76' class='xr-var-attrs-in' type='checkbox' ><label for='attrs-3db518e9-4c49-4884-a3c0-11f536293c76' title='Show/Hide attributes'><svg class='icon xr-icon-file-text2'><use xlink:href='#icon-file-text2'></use></svg></label><input id='data-1822729a-7fee-4699-a6b3-91c1aa9b6ab0' class='xr-var-data-in' type='checkbox'><label for='data-1822729a-7fee-4699-a6b3-91c1aa9b6ab0' title='Show/Hide data repr'><svg class='icon xr-icon-database'><use xlink:href='#icon-database'></use></svg></label><div class='xr-var-attrs'><dl class='xr-attrs'><dt><span>long_name :</span></dt><dd>latitude of CDR release</dd><dt><span>units :</span></dt><dd>Degrees North</dd></dl></div><div class='xr-var-data'><pre>[1 values with dtype=float64]</pre></div></li><li class='xr-var-item'><div class='xr-var-name'><span>cdr_hsc</span></div><div class='xr-var-dims'>(ncdr)</div><div class='xr-var-dtype'>float64</div><div class='xr-var-preview xr-preview'>...</div><input id='attrs-5399273b-6927-4fdc-b9dd-e8db325fda4a' class='xr-var-attrs-in' type='checkbox' ><label for='attrs-5399273b-6927-4fdc-b9dd-e8db325fda4a' title='Show/Hide attributes'><svg class='icon xr-icon-file-text2'><use xlink:href='#icon-file-text2'></use></svg></label><input id='data-f21c0870-b091-4cc3-9751-d87d0436db4a' class='xr-var-data-in' type='checkbox'><label for='data-f21c0870-b091-4cc3-9751-d87d0436db4a' title='Show/Hide data repr'><svg class='icon xr-icon-database'><use xlink:href='#icon-database'></use></svg></label><div class='xr-var-attrs'><dl class='xr-attrs'><dt><span>long_name :</span></dt><dd>horizontal scale of CDR release</dd><dt><span>units :</span></dt><dd>m</dd></dl></div><div class='xr-var-data'><pre>[1 values with dtype=float64]</pre></div></li><li class='xr-var-item'><div class='xr-var-name'><span>cdr_vsc</span></div><div class='xr-var-dims'>(ncdr)</div><div class='xr-var-dtype'>float64</div><div class='xr-var-preview xr-preview'>...</div><input id='attrs-a6d6d2ca-4d29-4bac-ac43-71e23360d62d' class='xr-var-attrs-in' type='checkbox' ><label for='attrs-a6d6d2ca-4d29-4bac-ac43-71e23360d62d' title='Show/Hide attributes'><svg class='icon xr-icon-file-text2'><use xlink:href='#icon-file-text2'></use></svg></label><input id='data-a7cdf974-daee-482d-b536-2035f9c3c12a' class='xr-var-data-in' type='checkbox'><label for='data-a7cdf974-daee-482d-b536-2035f9c3c12a' title='Show/Hide data repr'><svg class='icon xr-icon-database'><use xlink:href='#icon-database'></use></svg></label><div class='xr-var-attrs'><dl class='xr-attrs'><dt><span>long_name :</span></dt><dd>vertical scale of CDR release</dd><dt><span>units :</span></dt><dd>m</dd></dl></div><div class='xr-var-data'><pre>[1 values with dtype=float64]</pre></div></li><li class='xr-var-item'><div class='xr-var-name'><span>cdr_dep</span></div><div class='xr-var-dims'>(ncdr)</div><div class='xr-var-dtype'>float64</div><div class='xr-var-preview xr-preview'>...</div><input id='attrs-7c15358e-5efd-40f2-aa6a-a76c84ab9a38' class='xr-var-attrs-in' type='checkbox' ><label for='attrs-7c15358e-5efd-40f2-aa6a-a76c84ab9a38' title='Show/Hide attributes'><svg class='icon xr-icon-file-text2'><use xlink:href='#icon-file-text2'></use></svg></label><input id='data-c3c4d158-7d25-4aa9-b55a-9969a277fe57' class='xr-var-data-in' type='checkbox'><label for='data-c3c4d158-7d25-4aa9-b55a-9969a277fe57' title='Show/Hide data repr'><svg class='icon xr-icon-database'><use xlink:href='#icon-database'></use></svg></label><div class='xr-var-attrs'><dl class='xr-attrs'><dt><span>long_name :</span></dt><dd>mean depth of CDR release</dd><dt><span>units :</span></dt><dd>m</dd></dl></div><div class='xr-var-data'><pre>[1 values with dtype=float64]</pre></div></li><li class='xr-var-item'><div class='xr-var-name'><span>cdr_time</span></div><div class='xr-var-dims'>(time)</div><div class='xr-var-dtype'>float64</div><div class='xr-var-preview xr-preview'>...</div><input id='attrs-9f3ef2f8-0c36-4c18-a529-8a054f359d1a' class='xr-var-attrs-in' type='checkbox' ><label for='attrs-9f3ef2f8-0c36-4c18-a529-8a054f359d1a' title='Show/Hide attributes'><svg class='icon xr-icon-file-text2'><use xlink:href='#icon-file-text2'></use></svg></label><input id='data-318fd6f0-6baa-42ed-a939-b50e31b7d9c3' class='xr-var-data-in' type='checkbox'><label for='data-318fd6f0-6baa-42ed-a939-b50e31b7d9c3' title='Show/Hide data repr'><svg class='icon xr-icon-database'><use xlink:href='#icon-database'></use></svg></label><div class='xr-var-attrs'><dl class='xr-attrs'><dt><span>long_name :</span></dt><dd>time since 2000-1-1</dd><dt><span>units :</span></dt><dd>yearday</dd><dt><span>cycle_length :</span></dt><dd>360.0</dd></dl></div><div class='xr-var-data'><pre>[12 values with dtype=float64]</pre></div></li><li class='xr-var-item'><div class='xr-var-name'><span>cdr_volume</span></div><div class='xr-var-dims'>(time, ncdr)</div><div class='xr-var-dtype'>float64</div><div class='xr-var-preview xr-preview'>...</div><input id='attrs-e4593dcb-24ba-4e77-91a6-d77e8a5509c1' class='xr-var-attrs-in' type='checkbox' ><label for='attrs-e4593dcb-24ba-4e77-91a6-d77e8a5509c1' title='Show/Hide attributes'><svg class='icon xr-icon-file-text2'><use xlink:href='#icon-file-text2'></use></svg></label><input id='data-d92d4f75-9749-4bc6-bc5a-a0df672961d1' class='xr-var-data-in' type='checkbox'><label for='data-d92d4f75-9749-4bc6-bc5a-a0df672961d1' title='Show/Hide data repr'><svg class='icon xr-icon-database'><use xlink:href='#icon-database'></use></svg></label><div class='xr-var-attrs'><dl class='xr-attrs'><dt><span>long_name :</span></dt><dd>Volume flux of CDR release</dd><dt><span>units :</span></dt><dd>m3/s</dd></dl></div><div class='xr-var-data'><pre>[12 values with dtype=float64]</pre></div></li><li class='xr-var-item'><div class='xr-var-name'><span>cdr_tracer</span></div><div class='xr-var-dims'>(time, ntracers, ncdr)</div><div class='xr-var-dtype'>float64</div><div class='xr-var-preview xr-preview'>...</div><input id='attrs-fb7fec7f-678f-4cc2-8874-6a501f9a7fec' class='xr-var-attrs-in' type='checkbox' ><label for='attrs-fb7fec7f-678f-4cc2-8874-6a501f9a7fec' title='Show/Hide attributes'><svg class='icon xr-icon-file-text2'><use xlink:href='#icon-file-text2'></use></svg></label><input id='data-cda1b744-018e-4e5f-b32d-00875d620305' class='xr-var-data-in' type='checkbox'><label for='data-cda1b744-018e-4e5f-b32d-00875d620305' title='Show/Hide data repr'><svg class='icon xr-icon-database'><use xlink:href='#icon-database'></use></svg></label><div class='xr-var-attrs'><dl class='xr-attrs'><dt><span>long_name :</span></dt><dd>Tracer concentrations of CDR release</dd><dt><span>units :</span></dt><dd>C/m3</dd></dl></div><div class='xr-var-data'><pre>[36 values with dtype=float64]</pre></div></li><li class='xr-var-item'><div class='xr-var-name'><span>cdr_trcflx</span></div><div class='xr-var-dims'>(time, ntracers, ncdr)</div><div class='xr-var-dtype'>float64</div><div class='xr-var-preview xr-preview'>...</div><input id='attrs-661ca95a-73f3-4361-b73b-477dc965082d' class='xr-var-attrs-in' type='checkbox' ><label for='attrs-661ca95a-73f3-4361-b73b-477dc965082d' title='Show/Hide attributes'><svg class='icon xr-icon-file-text2'><use xlink:href='#icon-file-text2'></use></svg></label><input id='data-5e7a4a37-c86e-40d5-9d61-3784d3e2a156' class='xr-var-data-in' type='checkbox'><label for='data-5e7a4a37-c86e-40d5-9d61-3784d3e2a156' title='Show/Hide data repr'><svg class='icon xr-icon-database'><use xlink:href='#icon-database'></use></svg></label><div class='xr-var-attrs'><dl class='xr-attrs'><dt><span>long_name :</span></dt><dd>Tracer fluxes of CDR release</dd><dt><span>units :</span></dt><dd>C/s</dd></dl></div><div class='xr-var-data'><pre>[36 values with dtype=float64]</pre></div></li></ul></div></li><li class='xr-section-item'><input id='section-8a5c1b5a-e7bb-4069-9a7b-19642f9b6aa0' class='xr-section-summary-in' type='checkbox' disabled ><label for='section-8a5c1b5a-e7bb-4069-9a7b-19642f9b6aa0' class='xr-section-summary'  title='Expand/collapse section'>Indexes: <span>(0)</span></label><div class='xr-section-inline-details'></div><div class='xr-section-details'><ul class='xr-var-list'></ul></div></li><li class='xr-section-item'><input id='section-b7201ea5-c328-4634-9d16-e18e9567122e' class='xr-section-summary-in' type='checkbox' disabled ><label for='section-b7201ea5-c328-4634-9d16-e18e9567122e' class='xr-section-summary'  title='Expand/collapse section'>Attributes: <span>(0)</span></label><div class='xr-section-inline-details'></div><div class='xr-section-details'><dl class='xr-attrs'></dl></div></li></ul></div></div>"
      ],
      "text/plain": [
       "<xarray.Dataset> Size: 808B\n",
       "Dimensions:     (ncdr: 1, time: 12, ntracers: 3)\n",
       "Dimensions without coordinates: ncdr, time, ntracers\n",
       "Data variables:\n",
       "    cdr_lon     (ncdr) float64 8B ...\n",
       "    cdr_lat     (ncdr) float64 8B ...\n",
       "    cdr_hsc     (ncdr) float64 8B ...\n",
       "    cdr_vsc     (ncdr) float64 8B ...\n",
       "    cdr_dep     (ncdr) float64 8B ...\n",
       "    cdr_time    (time) float64 96B ...\n",
       "    cdr_volume  (time, ncdr) float64 96B ...\n",
       "    cdr_tracer  (time, ntracers, ncdr) float64 288B ...\n",
       "    cdr_trcflx  (time, ntracers, ncdr) float64 288B ..."
      ]
     },
     "execution_count": 3,
     "metadata": {},
     "output_type": "execute_result"
    }
   ],
   "source": [
    "ds"
   ]
  },
  {
   "cell_type": "code",
   "execution_count": 5,
   "id": "eaa55ea6-4563-4b14-beb0-cfd25b28d683",
   "metadata": {},
   "outputs": [
    {
     "data": {
      "text/plain": [
       "array([-120.718])"
      ]
     },
     "execution_count": 5,
     "metadata": {},
     "output_type": "execute_result"
    }
   ],
   "source": [
    "ds.cdr_lon.values"
   ]
  },
  {
   "cell_type": "code",
   "execution_count": 6,
   "id": "23bf925a-0b6b-45ba-ba83-2b732754bad9",
   "metadata": {},
   "outputs": [
    {
     "data": {
      "text/plain": [
       "array([34.56])"
      ]
     },
     "execution_count": 6,
     "metadata": {},
     "output_type": "execute_result"
    }
   ],
   "source": [
    "ds.cdr_lat.values"
   ]
  },
  {
   "cell_type": "code",
   "execution_count": 7,
   "id": "7e4373b8-74fe-4fcd-9ae6-84baf7871e30",
   "metadata": {},
   "outputs": [
    {
     "data": {
      "text/plain": [
       "array([5000.])"
      ]
     },
     "execution_count": 7,
     "metadata": {},
     "output_type": "execute_result"
    }
   ],
   "source": [
    "ds.cdr_hsc.values"
   ]
  },
  {
   "cell_type": "code",
   "execution_count": 8,
   "id": "2da155fa-efc2-4665-aceb-3e5d6e2466db",
   "metadata": {},
   "outputs": [
    {
     "data": {
      "text/plain": [
       "array([10.])"
      ]
     },
     "execution_count": 8,
     "metadata": {},
     "output_type": "execute_result"
    }
   ],
   "source": [
    "ds.cdr_vsc.values"
   ]
  },
  {
   "cell_type": "code",
   "execution_count": 27,
   "id": "59df3b5f-4cb0-4379-9b74-c983e6dacb88",
   "metadata": {},
   "outputs": [
    {
     "data": {
      "text/plain": [
       "array([20.])"
      ]
     },
     "execution_count": 27,
     "metadata": {},
     "output_type": "execute_result"
    }
   ],
   "source": [
    "ds.cdr_dep.values"
   ]
  },
  {
   "cell_type": "code",
   "execution_count": 9,
   "id": "2c597c25-797a-4de0-99a9-fa2f50f71722",
   "metadata": {},
   "outputs": [
    {
     "data": {
      "text/plain": [
       "array([ 15.,  45.,  75., 105., 135., 165., 195., 225., 255., 285., 315.,\n",
       "       345.])"
      ]
     },
     "execution_count": 9,
     "metadata": {},
     "output_type": "execute_result"
    }
   ],
   "source": [
    "ds.cdr_time.values"
   ]
  },
  {
   "cell_type": "code",
   "execution_count": 14,
   "id": "7ffbb86c-385d-483c-8725-f3c897c59b30",
   "metadata": {},
   "outputs": [],
   "source": [
    "import matplotlib.pyplot as plt"
   ]
  },
  {
   "cell_type": "code",
   "execution_count": 22,
   "id": "d06be785-d7b7-47db-aebd-98e330fea364",
   "metadata": {},
   "outputs": [
    {
     "data": {
      "text/plain": [
       "Text(0, 0.5, 'Volume flux (m3/s)')"
      ]
     },
     "execution_count": 22,
     "metadata": {},
     "output_type": "execute_result"
    },
    {
     "data": {
      "image/png": "[encoded data removed]",
      "text/plain": [
       "<Figure size 800x500 with 1 Axes>"
      ]
     },
     "metadata": {},
     "output_type": "display_data"
    }
   ],
   "source": [
    "fig, ax = plt.subplots(1, 1, figsize=(8, 5))\n",
    "ax.plot(ds.cdr_time.values, ds.cdr_volume.values)\n",
    "ax.set_xlabel(\"time (days)\")\n",
    "ax.set_ylabel(\"Volume flux (m3/s)\")"
   ]
  },
  {
   "cell_type": "code",
   "execution_count": 34,
   "id": "c2abc49c-60b7-48f7-ab79-2ebdeade6bcb",
   "metadata": {},
   "outputs": [
    {
     "data": {
      "text/plain": [
       "<matplotlib.legend.Legend at 0x7f34fb2d3d90>"
      ]
     },
     "execution_count": 34,
     "metadata": {},
     "output_type": "execute_result"
    },
    {
     "data": {
      "image/png": "[encoded data removed]",
      "text/plain": [
       "<Figure size 800x500 with 1 Axes>"
      ]
     },
     "metadata": {},
     "output_type": "display_data"
    }
   ],
   "source": [
    "fig, ax = plt.subplots(1, 1, figsize=(8, 5))\n",
    "ax.plot(ds.cdr_time.values, ds.cdr_tracer.isel(ntracers=0).values, label=\"Temperature\")\n",
    "ax.plot(ds.cdr_time.values, ds.cdr_tracer.isel(ntracers=1).values, label=\"Salinity\")\n",
    "ax.plot(ds.cdr_time.values, ds.cdr_tracer.isel(ntracers=2).values, label=\"Tracer\")\n",
    "ax.set_xlabel(\"time (days)\")\n",
    "ax.set_ylabel(\"[Tracer unit]\")\n",
    "ax.set_title(\"Tracer concentrations of release\")\n",
    "ax.legend()"
   ]
  },
  {
   "cell_type": "code",
   "execution_count": 35,
   "id": "a45d4361-0a93-4243-8ba7-51e8865b15c8",
   "metadata": {},
   "outputs": [
    {
     "data": {
      "text/plain": [
       "<matplotlib.legend.Legend at 0x7f34fb16d090>"
      ]
     },
     "execution_count": 35,
     "metadata": {},
     "output_type": "execute_result"
    },
    {
     "data": {
      "image/png": "[encoded data removed]",
      "text/plain": [
       "<Figure size 800x500 with 1 Axes>"
      ]
     },
     "metadata": {},
     "output_type": "display_data"
    }
   ],
   "source": [
    "fig, ax = plt.subplots(1, 1, figsize=(8, 5))\n",
    "ax.plot(ds.cdr_time.values, ds.cdr_trcflx.isel(ntracers=0).values, label=\"Temperature\")\n",
    "ax.plot(ds.cdr_time.values, ds.cdr_trcflx.isel(ntracers=1).values, label=\"Salinity\")\n",
    "ax.plot(ds.cdr_time.values, ds.cdr_trcflx.isel(ntracers=2).values, label=\"Tracer\")\n",
    "ax.set_xlabel(\"time (days)\")\n",
    "ax.set_ylabel(\"[Tracer unit]/s\")\n",
    "ax.set_title(\"Tracer fluxes of release\")\n",
    "ax.legend()"
   ]
  },
  {
   "cell_type": "code",
   "execution_count": 36,
   "id": "6f373454-ed1c-4ff2-8cd4-55129966efbe",
   "metadata": {},
   "outputs": [
    {
     "data": {
      "text/plain": [
       "array([[0.],\n",
       "       [0.],\n",
       "       [0.],\n",
       "       [0.],\n",
       "       [0.],\n",
       "       [0.],\n",
       "       [0.],\n",
       "       [0.],\n",
       "       [0.],\n",
       "       [0.],\n",
       "       [0.],\n",
       "       [0.]])"
      ]
     },
     "execution_count": 36,
     "metadata": {},
     "output_type": "execute_result"
    }
   ],
   "source": [
    "ds.cdr_trcflx.isel(ntracers=0).values"
   ]
  },
  {
   "cell_type": "code",
   "execution_count": 37,
   "id": "69e8aeec-ddc7-476c-8f81-686d9996f8ea",
   "metadata": {},
   "outputs": [
    {
     "data": {
      "text/plain": [
       "array([[0.],\n",
       "       [0.],\n",
       "       [0.],\n",
       "       [0.],\n",
       "       [0.],\n",
       "       [0.],\n",
       "       [0.],\n",
       "       [0.],\n",
       "       [0.],\n",
       "       [0.],\n",
       "       [0.],\n",
       "       [0.]])"
      ]
     },
     "execution_count": 37,
     "metadata": {},
     "output_type": "execute_result"
    }
   ],
   "source": [
    "ds.cdr_trcflx.isel(ntracers=1).values"
   ]
  },
  {
   "cell_type": "code",
   "execution_count": null,
   "id": "729cb9b5-3f0a-4aff-9b4b-76d07795fe78",
   "metadata": {},
   "outputs": [],
   "source": []
  },
  {
   "cell_type": "code",
   "execution_count": null,
   "id": "627b57eb-4866-4c35-a720-ab410861e188",
   "metadata": {},
   "outputs": [],
   "source": []
  },
  {
   "cell_type": "code",
   "execution_count": null,
   "id": "1818b01f-db92-4bf4-8492-6adebee3ce9e",
   "metadata": {},
   "outputs": [],
   "source": []
  },
  {
   "cell_type": "code",
   "execution_count": null,
   "id": "a4734c25-ba26-4e84-8079-0474c6d69536",
   "metadata": {},
   "outputs": [],
   "source": [
    "@dataclass(frozen=True, kw_only=True)\n",
    "class CDRForcing:\n",
    "    \"\"\"Represents river forcing input data for ROMS.\n",
    "\n",
    "    Parameters\n",
    "    ----------\n",
    "    grid : Grid, optional\n",
    "        Object representing the grid information.\n",
    "    lat :\n",
    "        Latitude of CDR release.\n",
    "    lon :\n",
    "        Lon of CDR release.\n",
    "    depth :\n",
    "        Depth of CDR release.\n",
    "    sigma_x :\n",
    "    sigma_y :\n",
    "    sigma_z :\n",
    "    times : times with dates\n",
    "    volume : time series of volumes\n",
    "    \n",
    "    temp: time series with temperature of \n",
    "    \n",
    "    start_time : datetime\n",
    "        Start time of the desired river forcing data.\n",
    "    end_time : datetime\n",
    "        End time of the desired river forcing data.\n",
    "    model_reference_date : datetime, optional\n",
    "        Reference date for the model. Default is January 1, 2000.\n",
    "        \n",
    "    Attributes\n",
    "    ----------\n",
    "    ds : xr.Dataset\n",
    "        The xarray Dataset containing the river forcing data.\n",
    "    \"\"\"\n",
    "\n",
    "    grid: Optional[Grid]\n",
    "    start_time: datetime\n",
    "    end_time: datetime\n",
    "    model_reference_date: datetime = datetime(2000, 1, 1)\n",
    "\n",
    "    ds: xr.Dataset = field(init=False, repr=False)\n",
    "\n",
    "    def __post_init__(self):\n",
    "        self._input_checks()\n",
    "\n",
    "        ds = self._create_river_forcing(data)\n",
    "        ds = self._write_indices_into_dataset(ds)\n",
    "        self._validate(ds)\n",
    "\n",
    "        for var_name in ds.data_vars:\n",
    "            ds[var_name] = substitute_nans_by_fillvalue(ds[var_name], fill_value=0.0)\n",
    "\n",
    "        object.__setattr__(self, \"ds\", ds)\n",
    "\n",
    "\n",
    "    def _create_river_forcing(self, data):\n",
    "        \"\"\"Create river forcing data for volume flux and tracers (temperature, salinity,\n",
    "        BGC tracers).\n",
    "\n",
    "        This method computes the river volume flux and associated tracers (temperature, salinity, BGC tracers)\n",
    "        based on the provided input data. It generates a new `xarray.Dataset` that contains:\n",
    "        - `river_volume`: The river volume flux, calculated as the product of river flux and a specified ratio, with units of m³/s.\n",
    "        - `river_tracer`: A tracer array containing temperature, salinity, and BGC tracer values for each river over time.\n",
    "\n",
    "        The method also handles climatological adjustments for missing or incomplete data, depending on the `convert_to_climatology` setting.\n",
    "\n",
    "        Parameters\n",
    "        ----------\n",
    "        data : object\n",
    "            An object containing the necessary dataset and variables for river forcing creation. The object must have the following attributes:\n",
    "            - `ds`: The dataset containing the river flux, ratio, and other related variables.\n",
    "            - `var_names`: A dictionary mapping variable names (e.g., `\"flux\"`, `\"ratio\"`, `\"name\"`) to the corresponding variable names in the dataset.\n",
    "            - `dim_names`: A dictionary mapping dimension names (e.g., `\"time\"`, `\"station\"`) to the corresponding dimension names in the dataset.\n",
    "\n",
    "        Returns\n",
    "        -------\n",
    "        xr.Dataset\n",
    "            A new `xarray.Dataset` containing the computed river forcing data. The dataset includes:\n",
    "            - `river_volume`: A `DataArray` representing the river volume flux (m³/s).\n",
    "            - `river_tracer`: A `DataArray` representing tracer data for temperature, salinity and BGC tracers (if specified) for each river over time.\n",
    "        \"\"\"\n",
    "\n",
    "        ds = xr.Dataset()\n",
    "\n",
    "        river_volume = (\n",
    "            data.ds[data.var_names[\"flux\"]] * data.ds[data.var_names[\"ratio\"]]\n",
    "        ).astype(np.float32)\n",
    "        river_volume.attrs[\"long_name\"] = \"River volume flux\"\n",
    "        river_volume.attrs[\"units\"] = \"m^3/s\"\n",
    "        river_volume = river_volume.rename(\n",
    "            {data.dim_names[\"time\"]: \"river_time\", data.dim_names[\"station\"]: \"nriver\"}\n",
    "        )\n",
    "        name = data.ds[data.var_names[\"name\"]].rename(\n",
    "            {data.dim_names[\"station\"]: \"nriver\"}\n",
    "        )\n",
    "        name.attrs[\"long_name\"] = \"River name\"\n",
    "        river_volume.coords[\"river_name\"] = name\n",
    "\n",
    "        ds[\"river_volume\"] = river_volume\n",
    "\n",
    "        nriver = xr.DataArray(np.arange(1, len(ds.nriver) + 1), dims=\"nriver\")\n",
    "        nriver.attrs[\"long_name\"] = \"River ID (1-based Fortran indexing)\"\n",
    "        ds = ds.assign_coords({\"nriver\": nriver})\n",
    "\n",
    "        if self.include_bgc:\n",
    "            ntracers = 2 + 32\n",
    "        else:\n",
    "            ntracers = 2\n",
    "        tracer_data = np.zeros(\n",
    "            (len(ds.river_time), ntracers, len(ds.nriver)), dtype=np.float32\n",
    "        )\n",
    "        tracer_data[:, 0, :] = 17.0\n",
    "        tracer_data[:, 1, :] = 1.0\n",
    "        tracer_data[:, 2:, :] = 0.0\n",
    "\n",
    "        river_tracer = xr.DataArray(\n",
    "            tracer_data, dims=(\"river_time\", \"ntracers\", \"nriver\")\n",
    "        )\n",
    "        river_tracer.attrs[\"long_name\"] = \"River tracer data\"\n",
    "\n",
    "        if self.include_bgc:\n",
    "            tracer_names = xr.DataArray(\n",
    "                [\n",
    "                    \"temp\",\n",
    "                    \"salt\",\n",
    "                    \"PO4\",\n",
    "                    \"NO3\",\n",
    "                    \"SiO3\",\n",
    "                    \"NH4\",\n",
    "                    \"Fe\",\n",
    "                    \"Lig\",\n",
    "                    \"O2\",\n",
    "                    \"DIC\",\n",
    "                    \"DIC_ALT_CO2\",\n",
    "                    \"ALK\",\n",
    "                    \"ALK_ALT_CO2\",\n",
    "                    \"DOC\",\n",
    "                    \"DON\",\n",
    "                    \"DOP\",\n",
    "                    \"DOPr\",\n",
    "                    \"DONr\",\n",
    "                    \"DOCr\",\n",
    "                    \"zooC\",\n",
    "                    \"spChl\",\n",
    "                    \"spC\",\n",
    "                    \"spP\",\n",
    "                    \"spFe\",\n",
    "                    \"spCaCO3\",\n",
    "                    \"diatChl\",\n",
    "                    \"diatC\",\n",
    "                    \"diatP\",\n",
    "                    \"diatFe\",\n",
    "                    \"diatSi\",\n",
    "                    \"diazChl\",\n",
    "                    \"diazC\",\n",
    "                    \"diazP\",\n",
    "                    \"diazFe\",\n",
    "                ],\n",
    "                dims=\"ntracers\",\n",
    "            )\n",
    "        else:\n",
    "            tracer_names = xr.DataArray([\"temp\", \"salt\"], dims=\"ntracers\")\n",
    "        tracer_names.attrs[\"long_name\"] = \"Tracer name\"\n",
    "        river_tracer.coords[\"tracer_name\"] = tracer_names\n",
    "        ds[\"river_tracer\"] = river_tracer\n",
    "\n",
    "        ds, time = convert_to_roms_time(\n",
    "            ds, self.model_reference_date, self.climatology, time_name=\"river_time\"\n",
    "        )\n",
    "\n",
    "        ds = ds.assign_coords({\"river_time\": time})\n",
    "\n",
    "        return ds\n"
   ]
  }
 ],
 "metadata": {
  "kernelspec": {
   "display_name": "romstools-test",
   "language": "python",
   "name": "romstools-test"
  },
  "language_info": {
   "codemirror_mode": {
    "name": "ipython",
    "version": 3
   },
   "file_extension": ".py",
   "mimetype": "text/x-python",
   "name": "python",
   "nbconvert_exporter": "python",
   "pygments_lexer": "ipython3",
   "version": "3.13.0"
  }
 },
 "nbformat": 4,
 "nbformat_minor": 5
}
